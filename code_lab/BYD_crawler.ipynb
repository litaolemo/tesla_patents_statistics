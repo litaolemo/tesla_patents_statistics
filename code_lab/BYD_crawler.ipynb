{
 "cells": [
  {
   "cell_type": "code",
   "execution_count": 8,
   "metadata": {
    "collapsed": true,
    "ExecuteTime": {
     "end_time": "2023-06-05T11:46:21.892618Z",
     "start_time": "2023-06-05T11:46:21.857622200Z"
    }
   },
   "outputs": [],
   "source": [
    "import requests\n",
    "import json\n",
    "import time\n",
    "import random\n",
    "import pandas as pd\n",
    "import numpy as np\n",
    "import re\n",
    "res_data_dict = {}\n",
    "patent_Citations = {}"
   ]
  },
  {
   "cell_type": "code",
   "execution_count": 10,
   "outputs": [
    {
     "name": "stdout",
     "output_type": "stream",
     "text": [
      "361\n",
      "460\n",
      "518\n",
      "600\n",
      "652\n",
      "748\n",
      "819\n",
      "919\n",
      "1016\n",
      "1107\n"
     ]
    },
    {
     "ename": "KeyError",
     "evalue": "'result'",
     "output_type": "error",
     "traceback": [
      "\u001B[1;31m---------------------------------------------------------------------------\u001B[0m",
      "\u001B[1;31mKeyError\u001B[0m                                  Traceback (most recent call last)",
      "Cell \u001B[1;32mIn[10], line 38\u001B[0m\n\u001B[0;32m     35\u001B[0m res_data_json \u001B[38;5;241m=\u001B[39m res_data\u001B[38;5;241m.\u001B[39mjson()\n\u001B[0;32m     36\u001B[0m \u001B[38;5;66;03m# print(res_data_json)\u001B[39;00m\n\u001B[1;32m---> 38\u001B[0m \u001B[38;5;28;01mfor\u001B[39;00m data \u001B[38;5;129;01min\u001B[39;00m \u001B[43mres_data_json\u001B[49m\u001B[43m[\u001B[49m\u001B[38;5;124;43m\"\u001B[39;49m\u001B[38;5;124;43mresults\u001B[39;49m\u001B[38;5;124;43m\"\u001B[39;49m\u001B[43m]\u001B[49m\u001B[43m[\u001B[49m\u001B[38;5;124;43m\"\u001B[39;49m\u001B[38;5;124;43mcluster\u001B[39;49m\u001B[38;5;124;43m\"\u001B[39;49m\u001B[43m]\u001B[49m\u001B[43m[\u001B[49m\u001B[38;5;241;43m0\u001B[39;49m\u001B[43m]\u001B[49m\u001B[43m[\u001B[49m\u001B[38;5;124;43m\"\u001B[39;49m\u001B[38;5;124;43mresult\u001B[39;49m\u001B[38;5;124;43m\"\u001B[39;49m\u001B[43m]\u001B[49m:\n\u001B[0;32m     39\u001B[0m     res_data_dict[data[\u001B[38;5;124m\"\u001B[39m\u001B[38;5;124mid\u001B[39m\u001B[38;5;124m\"\u001B[39m]] \u001B[38;5;241m=\u001B[39m {}\n\u001B[0;32m     40\u001B[0m     res_data_dict[data[\u001B[38;5;124m\"\u001B[39m\u001B[38;5;124mid\u001B[39m\u001B[38;5;124m\"\u001B[39m]][\u001B[38;5;124m\"\u001B[39m\u001B[38;5;124mtitle\u001B[39m\u001B[38;5;124m\"\u001B[39m] \u001B[38;5;241m=\u001B[39m data[\u001B[38;5;124m\"\u001B[39m\u001B[38;5;124mpatent\u001B[39m\u001B[38;5;124m\"\u001B[39m][\u001B[38;5;124m\"\u001B[39m\u001B[38;5;124mtitle\u001B[39m\u001B[38;5;124m\"\u001B[39m]\n",
      "\u001B[1;31mKeyError\u001B[0m: 'result'"
     ]
    }
   ],
   "source": [
    "count = 0\n",
    "\n",
    "while count <= 88654:\n",
    "    headers = {\n",
    "\n",
    "'accept': 'text/html,application/xhtml+xml,application/xml;q=0.9,image/avif,image/webp,image/apng,*/*;q=0.8,application/signed-exchange;v=b3;q=0.7',\n",
    "'accept-encoding': 'gzip, deflate, br',\n",
    "'accept-language': 'zh-CN,zh;q=0.9',\n",
    "'cache-control': 'max-age=0',\n",
    "'cookie': 'CONSENT=PENDING+389; SOCS=CAISHwgCEhJnd3NfMjAyMzAyMjItMF9SQzEaBXpoLUNOIAEaBgiAn-WfBg; HSID=ASxvYFIyZywK0xrW1; SSID=An1439NVAdQGv4MvQ; APISID=bHHs0llvm1_xJQES/A_jujd_fw9MmDF1qV; SAPISID=Sa19P9AbTWCAnIb2/AJod0Kw9A_JHc2WQ9; __Secure-1PAPISID=Sa19P9AbTWCAnIb2/AJod0Kw9A_JHc2WQ9; __Secure-3PAPISID=Sa19P9AbTWCAnIb2/AJod0Kw9A_JHc2WQ9; SID=XAh3sK0EX-OOZ0D5YwhKla0AFZq_Pefmkr6SEr19nISQ9Ug6MmVfodlhOrlCmtvnfuG1Ag.; __Secure-1PSID=XAh3sK0EX-OOZ0D5YwhKla0AFZq_Pefmkr6SEr19nISQ9Ug6JRr8DK2xK4igwlSugv_FDw.; __Secure-3PSID=XAh3sK0EX-OOZ0D5YwhKla0AFZq_Pefmkr6SEr19nISQ9Ug6d95BkqYKtl5uJj4E1C-kBA.; OGPC=19035808-1:; AEC=AUEFqZfCtuZuvbBDhPuIeOiwM2B_LWjj2zwCoV4s6bW6pBsALGMPoOfGyjg; NID=511=WpuV66srldirAaYhv_auulIEW_6XueVkQnEu88bNI6uWnxjpolhklbvBfoZ_FM_y8GwXlqFhmMu5G9q2siy88S4Wk004HrDj_pXEhvOEARLr6xJu0Geekev2SFAUD4nQPDx77jPhcb8Z1OzQB3Zu45WBnlYNDyscSsN8WJMza4sPrrSdmcJgdYm4wiNtafUpJuaA8doR4EyuhKQWUgc-gO4dzlvTnDJcjCd1kn8gBJmiyE-_kp8zdGyDUZafzArOUdERlmv9jyHxZ53Re0rv0bWOn7NNCqyKfwJv18UnlRjjhZE6OT2z_8Qb; SEARCH_SAMESITE=CgQItpgB; 1P_JAR=2023-6-2-9; __Secure-1PSIDTS=sidts-CjIBLFra0tGqoDv0QkL0cySijeychYhvAtBHUc6-JY0PiVZ290i-9sDV83nyLDFEhRtrhBAA; __Secure-3PSIDTS=sidts-CjIBLFra0tGqoDv0QkL0cySijeychYhvAtBHUc6-JY0PiVZ290i-9sDV83nyLDFEhRtrhBAA; PPA_CI=15ae2ab488c5a578706c43bff249ef4d; SIDCC=AP8dLtwW6TWLW6Du935bYDd5sqUF3uQbV1WG_fY91kQwS6zMJX97NqwIGW2txXNmpfqVKrJ74vk; __Secure-1PSIDCC=AP8dLtwJqB8KENLtDGTOhc6-Hyx3T0rcyP46Qp1yKoK7gx3QFDjeLz8XLKd86uqIDDIFMG_7YeY; __Secure-3PSIDCC=AP8dLtyVtkOak0PfNqSrMDmQ-B2bn5zefOdG53g1I8gonhTN7m6tv7X8T0yAt2mQ8eq2I5OOE2GL',\n",
    "'dnt': '1',\n",
    "'referer': 'https://www.google.com/',\n",
    "'sec-ch-ua': '\"Chromium\";v=\"112\", \"Google Chrome\";v=\"112\", \"Not:A-Brand\";v=\"99\"',\n",
    "'sec-ch-ua-arch': '\"x86\"',\n",
    "'sec-ch-ua-bitness': '\"64\"',\n",
    "'sec-ch-ua-full-version': '\"112.0.5615.121\"',\n",
    "'sec-ch-ua-full-version-list': '\"Chromium\";v=\"112.0.5615.121\", \"Google Chrome\";v=\"112.0.5615.121\", \"Not:A-Brand\";v=\"99.0.0.0\"',\n",
    "'sec-ch-ua-mobile': '?0',\n",
    "'sec-ch-ua-model': '\"\"',\n",
    "'sec-ch-ua-platform': '\"Windows\"',\n",
    "'sec-ch-ua-platform-version': '\"15.0.0\"',\n",
    "'sec-ch-ua-wow64': '?0',\n",
    "'sec-fetch-dest': 'document',\n",
    "'sec-fetch-mode': 'navigate',\n",
    "'sec-fetch-site': 'same-origin',\n",
    "'sec-fetch-user': '?1',\n",
    "'upgrade-insecure-requests': '1',\n",
    "'user-agent': 'Mozilla/5.0 (Windows NT 10.0; Win64; x64) AppleWebKit/537.36 (KHTML, like Gecko) Chrome/112.0.0.0 Safari/537.36',\n",
    "    }\n",
    "    # BYD\n",
    "    # search_page_url = \"https://patents.google.com/xhr/query?url=assignee%3DBYD%2C%E6%AF%94%E4%BA%9A%E8%BF%AA%26before%3Dpriority%3A20240101%26after%3Dpriority%3A20220101%26num%3D100%26page%3D{0}&exp=&tags=\".format(str(count))\n",
    "    # tesla\n",
    "    search_page_url = \"https://patents.google.com/xhr/query?url=assignee%3DTesla%2BInc%26num%3D100%26oq%3DTesla%2B%2BInc%26page%3D{0}&exp=&tags=\".format(str(count))\n",
    "    res_data = requests.get(search_page_url,headers=headers)\n",
    "    res_data_json = res_data.json()\n",
    "    # print(res_data_json)\n",
    "\n",
    "    for data in res_data_json[\"results\"][\"cluster\"][0][\"result\"]:\n",
    "        res_data_dict[data[\"id\"]] = {}\n",
    "        res_data_dict[data[\"id\"]][\"title\"] = data[\"patent\"][\"title\"]\n",
    "        res_data_dict[data[\"id\"]][\"url\"] = \"https://patents.google.com/\" + data[\"id\"]\n",
    "        res_data_dict[data[\"id\"]][\"title\"] = data[\"patent\"][\"title\"]\n",
    "        res_data_dict[data[\"id\"]][\"assignee\"] = data[\"patent\"][\"assignee\"]\n",
    "        res_data_dict[data[\"id\"]][\"snippet\"] = data[\"patent\"][\"snippet\"]\n",
    "        res_data_dict[data[\"id\"]][\"publication_number\"] = data[\"patent\"][\"publication_number\"]\n",
    "        res_data_dict[data[\"id\"]][\"publication_date\"] = data[\"patent\"][\"publication_date\"]\n",
    "        try:\n",
    "            res_data_dict[data[\"id\"]][\"priority_date\"] = data[\"patent\"][\"priority_date\"]\n",
    "        except:\n",
    "            res_data_dict[data[\"id\"]][\"priority_date\"] = \"\"\n",
    "        res_data_dict[data[\"id\"]][\"pdf\"] = data[\"patent\"][\"pdf\"]\n",
    "        res_data_dict[data[\"id\"]][\"language\"] = data[\"patent\"][\"language\"]\n",
    "        res_data_dict[data[\"id\"]][\"inventor\"] = data[\"patent\"][\"inventor\"]\n",
    "        res_data_dict[data[\"id\"]][\"filing_date\"] = data[\"patent\"][\"filing_date\"]\n",
    "        try:\n",
    "            res_data_dict[data[\"id\"]][\"state\"] = data[\"patent\"][\"family_metadata\"][\"aggregated\"][\"country_status\"][0][\"best_patent_stage\"][\"state\"]\n",
    "            res_data_dict[data[\"id\"]][\"country_code\"] = data[\"patent\"][\"family_metadata\"][\"aggregated\"][\"country_status\"][0][\"country_code\"]\n",
    "        except:\n",
    "            res_data_dict[data[\"id\"]][\"state\"] = \"\"\n",
    "            res_data_dict[data[\"id\"]][\"country_code\"] = \"\"\n",
    "    print(len(res_data_dict))\n",
    "    count += 1\n",
    "    time.sleep(0.3)"
   ],
   "metadata": {
    "collapsed": false,
    "ExecuteTime": {
     "end_time": "2023-06-05T11:49:00.683159700Z",
     "start_time": "2023-06-05T11:48:52.939244800Z"
    }
   }
  },
  {
   "cell_type": "code",
   "execution_count": 16,
   "outputs": [],
   "source": [
    "import pandas as pd\n",
    "# df = pd.DataFrame(res_data_dict).T\n",
    "# df.to_excel(\"tesla_2022.xlsx\")\n",
    "# df = pd.read_excel(\"BYD_2022.xlsx\",sheet_name=\"Sheet1\")\n",
    "df = pd.read_excel(\"Tesla_2022.xlsx\",sheet_name=\"Sheet1\")\n",
    "# del res_data_dict"
   ],
   "metadata": {
    "collapsed": false,
    "ExecuteTime": {
     "end_time": "2023-06-05T11:52:00.635140800Z",
     "start_time": "2023-06-05T11:52:00.360114200Z"
    }
   }
  },
  {
   "cell_type": "code",
   "execution_count": 23,
   "outputs": [],
   "source": [
    "\n",
    "headers = {\n",
    "'accept': 'text/html,application/xhtml+xml,application/xml;q=0.9,image/avif,image/webp,image/apng,*/*;q=0.8,application/signed-exchange;v=b3;q=0.7',\n",
    "'accept-encoding': 'gzip, deflate, br',\n",
    "'accept-language': 'zh-CN,zh;q=0.9',\n",
    "'cache-control': 'max-age=0',\n",
    "'cookie': 'CONSENT=PENDING+389; SOCS=CAISHwgCEhJnd3NfMjAyMzAyMjItMF9SQzEaBXpoLUNOIAEaBgiAn-WfBg; HSID=ASxvYFIyZywK0xrW1; SSID=An1439NVAdQGv4MvQ; APISID=bHHs0llvm1_xJQES/A_jujd_fw9MmDF1qV; SAPISID=Sa19P9AbTWCAnIb2/AJod0Kw9A_JHc2WQ9; __Secure-1PAPISID=Sa19P9AbTWCAnIb2/AJod0Kw9A_JHc2WQ9; __Secure-3PAPISID=Sa19P9AbTWCAnIb2/AJod0Kw9A_JHc2WQ9; SID=XAh3sK0EX-OOZ0D5YwhKla0AFZq_Pefmkr6SEr19nISQ9Ug6MmVfodlhOrlCmtvnfuG1Ag.; __Secure-1PSID=XAh3sK0EX-OOZ0D5YwhKla0AFZq_Pefmkr6SEr19nISQ9Ug6JRr8DK2xK4igwlSugv_FDw.; __Secure-3PSID=XAh3sK0EX-OOZ0D5YwhKla0AFZq_Pefmkr6SEr19nISQ9Ug6d95BkqYKtl5uJj4E1C-kBA.; OGPC=19035808-1:; SEARCH_SAMESITE=CgQItpgB; PPA_CI=15ae2ab488c5a578706c43bff249ef4d; AEC=AUEFqZdrRt211MrDqydbg1Shs2gKFAYp2UcBIX8yExO7s-YpZthlJ_0uTIA; NID=511=Mv5WwEgsQjAkKCEwHEhsLDY6S1gmnQLpANb-Y1pD1uFKmd2a6zayPjF6n4sRCtGslfU43_6oiaQqgLGBzO9tlgS0B5JEnmPe3Ue0oB4pfH9Pir9Th68PiiIBOOvOqHUXSXzXsa6nXuDsXG5ThbEN27oRqaNEgHfCsjmw4T0BpIJm8_1KiIft9E5ihRN81HC4rUSLOlR8Dx6nWWrSjOV-eGCV7YMqfRv-Bzwvh5J3f5QB01GSIfdhZiYNn-7XZY-llyafUvY2Jdx9VspRIqQVmpAD1Sc7NtzvEiuRrd56kPYTuacxbSwXKHUA; 1P_JAR=2023-6-2-11; __Secure-1PSIDTS=sidts-CjIBLFra0uf_ObKvn9reONkvcEoSST_wE6hjaw8Qud6soMImkH7Qoo2T5oXugvvpsvLJHRAA; __Secure-3PSIDTS=sidts-CjIBLFra0uf_ObKvn9reONkvcEoSST_wE6hjaw8Qud6soMImkH7Qoo2T5oXugvvpsvLJHRAA; SIDCC=AP8dLtzi3D5M-Vq6JHTjiyR5UYkrhq_JF9FgjiWUExKUEhmzJKAFOW4aYROvraSq9WUccruVJ_I; __Secure-1PSIDCC=AP8dLtwtjnZn1PInhVMCqoNLlwd9zu9OgOcbqGxnltmKAUzLlvWIEOn7i-XK61o8q96Po65YV_M; __Secure-3PSIDCC=AP8dLtzAllXkGqVJHnY9gCnrJqHTZTnq4shSefMfI1dBR_1-Bh873lIUEAXGhxMWbFGvPjQjEcnJ',\n",
    "'dnt': '1',\n",
    "'sec-ch-ua': '\"Chromium\";v=\"112\", \"Google Chrome\";v=\"112\", \"Not:A-Brand\";v=\"99\"',\n",
    "'sec-ch-ua-mobile': '?0',\n",
    "'sec-ch-ua-platform': '\"Windows\"',\n",
    "'sec-fetch-dest': 'document',\n",
    "'sec-fetch-mode': 'navigate',\n",
    "'sec-fetch-site': 'none',\n",
    "'sec-fetch-user': '?1',\n",
    "'upgrade-insecure-requests': '1',\n",
    "'user-agent': 'Mozilla/5.0 (Windows NT 10.0; Win64; x64) AppleWebKit/537.36 (KHTML, like Gecko) Chrome/112.0.0.0 Safari/537.36',\n",
    "\n",
    "}\n",
    "from bs4 import BeautifulSoup\n",
    "from code_lab.data_tools import parse_data, save_res\n",
    "\n"
   ],
   "metadata": {
    "collapsed": false,
    "ExecuteTime": {
     "end_time": "2023-06-05T12:08:50.140785600Z",
     "start_time": "2023-06-05T12:08:50.120788Z"
    }
   }
  },
  {
   "cell_type": "code",
   "execution_count": 14,
   "outputs": [],
   "source": [
    "\n",
    "headers = {\n",
    "'accept': 'text/html,application/xhtml+xml,application/xml;q=0.9,image/avif,image/webp,image/apng,*/*;q=0.8,application/signed-exchange;v=b3;q=0.7',\n",
    "'accept-encoding': 'gzip, deflate, br',\n",
    "'accept-language': 'zh-CN,zh;q=0.9',\n",
    "'cache-control': 'max-age=0',\n",
    "'cookie': 'CONSENT=PENDING+389; SOCS=CAISHwgCEhJnd3NfMjAyMzAyMjItMF9SQzEaBXpoLUNOIAEaBgiAn-WfBg; HSID=ASxvYFIyZywK0xrW1; SSID=An1439NVAdQGv4MvQ; APISID=bHHs0llvm1_xJQES/A_jujd_fw9MmDF1qV; SAPISID=Sa19P9AbTWCAnIb2/AJod0Kw9A_JHc2WQ9; __Secure-1PAPISID=Sa19P9AbTWCAnIb2/AJod0Kw9A_JHc2WQ9; __Secure-3PAPISID=Sa19P9AbTWCAnIb2/AJod0Kw9A_JHc2WQ9; SID=XAh3sK0EX-OOZ0D5YwhKla0AFZq_Pefmkr6SEr19nISQ9Ug6MmVfodlhOrlCmtvnfuG1Ag.; __Secure-1PSID=XAh3sK0EX-OOZ0D5YwhKla0AFZq_Pefmkr6SEr19nISQ9Ug6JRr8DK2xK4igwlSugv_FDw.; __Secure-3PSID=XAh3sK0EX-OOZ0D5YwhKla0AFZq_Pefmkr6SEr19nISQ9Ug6d95BkqYKtl5uJj4E1C-kBA.; OGPC=19035808-1:; SEARCH_SAMESITE=CgQItpgB; PPA_CI=15ae2ab488c5a578706c43bff249ef4d; AEC=AUEFqZdrRt211MrDqydbg1Shs2gKFAYp2UcBIX8yExO7s-YpZthlJ_0uTIA; NID=511=Mv5WwEgsQjAkKCEwHEhsLDY6S1gmnQLpANb-Y1pD1uFKmd2a6zayPjF6n4sRCtGslfU43_6oiaQqgLGBzO9tlgS0B5JEnmPe3Ue0oB4pfH9Pir9Th68PiiIBOOvOqHUXSXzXsa6nXuDsXG5ThbEN27oRqaNEgHfCsjmw4T0BpIJm8_1KiIft9E5ihRN81HC4rUSLOlR8Dx6nWWrSjOV-eGCV7YMqfRv-Bzwvh5J3f5QB01GSIfdhZiYNn-7XZY-llyafUvY2Jdx9VspRIqQVmpAD1Sc7NtzvEiuRrd56kPYTuacxbSwXKHUA; 1P_JAR=2023-6-2-11; __Secure-1PSIDTS=sidts-CjIBLFra0kdQFtDVxKNtYzCCAQb3BD0LFQi7WH5HG1ET8GK5qy8TDOX4PPxCO7APCB_2WBAA; __Secure-3PSIDTS=sidts-CjIBLFra0kdQFtDVxKNtYzCCAQb3BD0LFQi7WH5HG1ET8GK5qy8TDOX4PPxCO7APCB_2WBAA; SIDCC=AP8dLtzlOAadp_CNeGJ-qqjAqd4I9t5kge0jbR8-yrmiLNK4q1rz5TzhaeveHwfKF7C-uA8oJkc; __Secure-1PSIDCC=AP8dLtwq5yTL_jzyFFrzd-gT4O_e3zSigkvZgixtzUVc_0nWfVoXmqnIpz-h56P_PqzI0blc1UY; __Secure-3PSIDCC=AP8dLtwbkMj94jMnmtx0K4OCuyLIQMupjs_RFyVcngVgTtkU55BfTAh4eemHusKIHAZzmA12jZDR',\n",
    "'dnt': '1',\n",
    "'sec-ch-ua': '\"Chromium\";v=\"112\", \"Google Chrome\";v=\"112\", \"Not:A-Brand\";v=\"99\"',\n",
    "'sec-ch-ua-mobile': '?0',\n",
    "'sec-ch-ua-platform': '\"Windows\"',\n",
    "'sec-fetch-dest': 'document',\n",
    "'sec-fetch-mode': 'navigate',\n",
    "'sec-fetch-site': 'none',\n",
    "'sec-fetch-user': '?1',\n",
    "'upgrade-insecure-requests': '1',\n",
    "'user-agent': 'Mozilla/5.0 (Windows NT 10.0; Win64; x64) AppleWebKit/537.36 (KHTML, like Gecko) Chrome/112.0.0.0 Safari/537.36',\n",
    "\n",
    "}"
   ],
   "metadata": {
    "collapsed": false,
    "ExecuteTime": {
     "end_time": "2023-06-05T11:50:00.258776200Z",
     "start_time": "2023-06-05T11:50:00.219654200Z"
    }
   }
  },
  {
   "cell_type": "code",
   "execution_count": 5,
   "outputs": [],
   "source": [
    "save_res(patent_Citations,\"BYD_patent_citations.xlsx\")"
   ],
   "metadata": {
    "collapsed": false,
    "ExecuteTime": {
     "end_time": "2023-06-02T23:36:21.407362200Z",
     "start_time": "2023-06-02T23:36:21.386362200Z"
    }
   }
  },
  {
   "cell_type": "code",
   "execution_count": 30,
   "outputs": [
    {
     "name": "stdout",
     "output_type": "stream",
     "text": [
      "https://patents.google.com/patent/US11384058B2\n",
      "total  0  citations\n",
      "----------------\n",
      "https://patents.google.com/patent/US20220405443A1\n",
      "total  0  citations\n",
      "----------------\n",
      "https://patents.google.com/patent/US20230057509A1\n",
      "total  0  citations\n",
      "----------------\n",
      "https://patents.google.com/patent/AU2021383678A1\n",
      "total  0  citations\n",
      "----------------\n",
      "https://patents.google.com/patent/WO2023086497A1\n",
      "total  0  citations\n",
      "----------------\n",
      "https://patents.google.com/patent/CN206598701U\n",
      "total  0  citations\n",
      "----------------\n",
      "https://patents.google.com/patent/US20210366629A1\n",
      "total  0  citations\n",
      "----------------\n",
      "https://patents.google.com/patent/AR094554A1\n",
      "total  0  citations\n",
      "----------------\n",
      "https://patents.google.com/patent/MX2019003296A\n",
      "total  0  citations\n",
      "----------------\n"
     ]
    }
   ],
   "source": [
    "def save_res(patent_Citations,file_name):\n",
    "    output_list = []\n",
    "    for key in patent_Citations:\n",
    "        for key2 in patent_Citations[key]:\n",
    "            output_list.append([key,key2,patent_Citations[key][key2][\"priority_date\"],patent_Citations[key][key2][\"publication_date\"],patent_Citations[key][key2].get(\"Assignee\",\"\"),patent_Citations[key][key2].get(\"Assignee_Title\",\"\"),patent_Citations[key][key2][\"cite_type\"],patent_Citations[key][key2][\"assignee\"],patent_Citations[key][key2][\"snippet\"]])\n",
    "\n",
    "    data_pd = pd.DataFrame(output_list,columns=[\"Patent number\",\"Cited by\",\"Priority date\",\"Publication date\",\"Assignee\",\"Title\",\"cite_type\",\"From\",\"snippet\"])\n",
    "    data_pd.to_excel(file_name)\n",
    "# from code_lab.data_tools import parse_data, save_res\n",
    "for index, row in df.iterrows():\n",
    "    # print(row )\n",
    "    try:\n",
    "        key = row[\"id\"].split(\"/\")[1]\n",
    "        print(key)\n",
    "    except:\n",
    "        key = row[\"id\"]\n",
    "    # if index < 25000:\n",
    "    #     continue\n",
    "\n",
    "    if patent_Citations.get(key):\n",
    "        continue\n",
    "    patent_Citations[key] = {}\n",
    "    url = \"https://patents.google.com/patent/\"+key\n",
    "    print(url)\n",
    "    res_data = requests.get(url,headers=headers)\n",
    "    res_data.encoding = 'utf-8'\n",
    "    # print(res_data.text)\n",
    "    res_data_text  = res_data.text\n",
    "    patent_Citations = parse_data(res_data_text,patent_Citations,key,row)\n",
    "    if index % 3000 == 0:\n",
    "        save_res(patent_Citations,\"Tesla_patent_citations.xlsx\")\n",
    "    print(\"----------------\")\n",
    "    # time.sleep(0.1)\n",
    "save_res(patent_Citations,\"Tesla_patent_citations.xlsx\")"
   ],
   "metadata": {
    "collapsed": false,
    "ExecuteTime": {
     "end_time": "2023-06-05T12:12:49.128991400Z",
     "start_time": "2023-06-05T12:12:20.942031300Z"
    }
   }
  },
  {
   "cell_type": "code",
   "execution_count": 17,
   "outputs": [
    {
     "name": "stderr",
     "output_type": "stream",
     "text": [
      "D:\\ProgramData\\Anaconda3\\envs\\TensorFlow_work\\lib\\site-packages\\pandas\\util\\_decorators.py:211: FutureWarning: the 'encoding' keyword is deprecated and will be removed in a future version. Please take steps to stop the use of 'encoding'\n",
      "  return func(*args, **kwargs)\n"
     ]
    }
   ],
   "source": [
    "save_res(patent_Citations,\"BYD_patent_citations.xlsx\")"
   ],
   "metadata": {
    "collapsed": false,
    "ExecuteTime": {
     "end_time": "2023-06-02T18:17:44.413157900Z",
     "start_time": "2023-06-02T18:16:54.913232300Z"
    }
   }
  }
 ],
 "metadata": {
  "kernelspec": {
   "display_name": "Python 3",
   "language": "python",
   "name": "python3"
  },
  "language_info": {
   "codemirror_mode": {
    "name": "ipython",
    "version": 2
   },
   "file_extension": ".py",
   "mimetype": "text/x-python",
   "name": "python",
   "nbconvert_exporter": "python",
   "pygments_lexer": "ipython2",
   "version": "2.7.6"
  }
 },
 "nbformat": 4,
 "nbformat_minor": 0
}
